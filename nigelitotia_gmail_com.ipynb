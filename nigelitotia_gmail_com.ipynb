{
  "nbformat": 4,
  "nbformat_minor": 0,
  "metadata": {
    "colab": {
      "name": "nigelitotia@gmail.com.ipynb",
      "provenance": [],
      "collapsed_sections": [],
      "authorship_tag": "ABX9TyPPmcmh9aw0yiQOd7T54t5a",
      "include_colab_link": true
    },
    "kernelspec": {
      "name": "python3",
      "display_name": "Python 3"
    },
    "language_info": {
      "name": "python"
    }
  },
  "cells": [
    {
      "cell_type": "markdown",
      "metadata": {
        "id": "view-in-github",
        "colab_type": "text"
      },
      "source": [
        "<a href=\"https://colab.research.google.com/github/N-itotia/Grointerview/blob/main/nigelitotia_gmail_com.ipynb\" target=\"_parent\"><img src=\"https://colab.research.google.com/assets/colab-badge.svg\" alt=\"Open In Colab\"/></a>"
      ]
    },
    {
      "cell_type": "code",
      "source": [
        "!pip install pandas\n",
        "!pip install NLTK"
      ],
      "metadata": {
        "id": "2m5fLCA1lagy"
      },
      "execution_count": null,
      "outputs": []
    },
    {
      "cell_type": "code",
      "execution_count": null,
      "metadata": {
        "id": "DcjvhQGHe7XJ"
      },
      "outputs": [],
      "source": [
        "import pandas as pd\n",
        "import re\n",
        "from re import search\n",
        "import matplotlib.pyplot as plt\n",
        "import csv\n",
        "import spacy\n",
        "import nltk\n",
        "from nltk.corpus import wordnet\n",
        "nltk.download('wordnet')\n",
        "from nltk.stem.wordnet import WordNetLemmatizer \n",
        "from nltk.stem.porter import PorterStemmer "
      ]
    },
    {
      "cell_type": "code",
      "source": [
        "#opening tha datas\n",
        "data1 = pd.read_csv('Gro/source_1.csv')\n",
        "data2 = pd.read_csv('Gro/source_2.csv')"
      ],
      "metadata": {
        "id": "ctbRijV9khzM"
      },
      "execution_count": null,
      "outputs": []
    },
    {
      "cell_type": "code",
      "source": [
        "data3 = {'id_s1':[],\n",
        "        'name_s1':[],\n",
        "         'id_s2':[],\n",
        "         'name_s2':[],\n",
        "         'method_used':[]\n",
        "         }\n",
        " \n",
        "# Create DataFrame\n",
        "result_df = pd.DataFrame(data3)\n",
        "\n",
        "result_df"
      ],
      "metadata": {
        "id": "AVpEqkyEQg88"
      },
      "execution_count": null,
      "outputs": []
    },
    {
      "cell_type": "code",
      "source": [
        "#regex\n",
        "def find_before_semicolon(input):\n",
        "    #input = \"Seed; beet seed, (excluding sugar beet), of a kind used for sowing\"\n",
        "    try:\n",
        "      string_pattern = r\"[a-zA-Z]+\"\n",
        "      regex_pattern = re.compile(string_pattern, re.IGNORECASE)\n",
        "      result = regex_pattern.findall(input)\n",
        "      firstdigit = result[0]\n",
        "    except:\n",
        "      firstdigit = input\n",
        "    \n",
        "    return firstdigit;\n"
      ],
      "metadata": {
        "id": "DCEbcLMZLAWG"
      },
      "execution_count": null,
      "outputs": []
    },
    {
      "cell_type": "code",
      "source": [
        "#looks for synonyms between source1 & source 2\n",
        "#takes in a row and returns sysonym of word before ;\n",
        "def synonym_finder(dataset_row):\n",
        "  dataset_row = find_before_semicolon(dataset_row)\n",
        "\n",
        "  synonyms = []\n",
        "\n",
        "  for syn in wordnet.synsets(dataset_row):\n",
        "      for l in syn.lemmas():\n",
        "          synonyms.append(l.name())\n",
        "          \n",
        "\n",
        "  return set(synonyms)\n"
      ],
      "metadata": {
        "id": "bNDWak7n9_H2"
      },
      "execution_count": null,
      "outputs": []
    },
    {
      "cell_type": "code",
      "source": [
        "#looping through source 2 searching source 1\n",
        "#if found delete row in source 2 and add deleted to matched data\n",
        "fullstring = data1.name\n",
        "substring = data2.name\n",
        "\n",
        "\n",
        "#for idx, row_s1 in enumerate(data1.itertuples(),1):\n",
        "    #fullstring = row_s1.name\n",
        "\n",
        "for i, row_s2 in enumerate(data2.itertuples(),1):\n",
        "  substring = row_s2.name\n",
        "  contain_values = data1[data1['name'].str.contains(row_s2.name)]\n",
        "  print(contain_values)\n",
        "\n",
        "  #if search(substring, fullstring):\n",
        "  for ig, row_s1 in enumerate(contain_values.itertuples(),1):        \n",
        "    result_df = result_df.append({'id_s1': row_s1.id, \n",
        "                                    'name_s1': row_s1.name, \n",
        "                                    'id_s2': row_s2.id,\n",
        "                                    'name_s2': row_s2.name, \n",
        "                                    'method_used': \"substring method\"}, ignore_index=True)\n",
        "    \n",
        "    data2= data2.drop(data2.index[i])\n",
        "      #data2.drop(row_s2.id,axis=1, inplace=True)\n",
        "\n",
        "else:\n",
        "  print (\"Not found!\")"
      ],
      "metadata": {
        "id": "Tu4weOK_DdoS"
      },
      "execution_count": null,
      "outputs": []
    },
    {
      "cell_type": "code",
      "source": [
        "#for loop throuhg source1 pass row of source 1 to syn finder if it has syn loop thourgh sysn \n",
        "#if sysn are in source 2 write to final and delete from source 2\n",
        "\n",
        "for igx, row_s1 in enumerate(data1.itertuples(),1):\n",
        "  print(row_s1.name)\n",
        "  found_synonyms = synonym_finder(row_s1.name)\n",
        "\n",
        "  for synonym in found_synonyms:\n",
        "    synonym = synonym.replace('_', ' ')\n",
        "    loop_syn = data2[data2['name'].str.contains(synonym)]\n",
        "  \n",
        "    for ig, row_s2 in enumerate(loop_syn.itertuples(),1):\n",
        "      result_df = result_df.append({'id_s1': row_s1.id, \n",
        "                                        'name_s1': row_s1.name, \n",
        "                                        'id_s2': row_s2.id,\n",
        "                                        'name_s2': row_s2.name, \n",
        "                                        'method_used': \"synonym method\"}, ignore_index=True)\n",
        "          \n",
        "      data2= data2.drop(data2.index[ig])\n",
        "\n",
        "\n"
      ],
      "metadata": {
        "id": "4i0CDM0FybZ6"
      },
      "execution_count": null,
      "outputs": []
    },
    {
      "cell_type": "code",
      "source": [
        "result_df"
      ],
      "metadata": {
        "id": "RCttmVO4oJgQ"
      },
      "execution_count": null,
      "outputs": []
    },
    {
      "cell_type": "code",
      "source": [
        "#pie charts\n",
        "labels = result_df['method_used'].astype('category').cat.categories.tolist()\n",
        "counts = result_df['method_used'].value_counts()\n",
        "sizes = [counts[var_cat] for var_cat in labels]\n",
        "fig1, ax1 = plt.subplots()\n",
        "ax1.pie(sizes, labels=labels, autopct='%1.1f%%', shadow=True) #autopct is show the % on plot\n",
        "ax1.axis('equal')\n",
        "plt.show()\n"
      ],
      "metadata": {
        "colab": {
          "base_uri": "https://localhost:8080/",
          "height": 248
        },
        "id": "WX25-RRG0MC_",
        "outputId": "a7c5b6ac-8125-464e-f3ed-60af7dc4051d"
      },
      "execution_count": null,
      "outputs": [
        {
          "output_type": "display_data",
          "data": {
            "text/plain": [
              "<Figure size 432x288 with 1 Axes>"
            ],
            "image/png": "[encoded data removed]"
          },
          "metadata": {}
        }
      ]
    },
    {
      "cell_type": "code",
      "source": [
        "#barcharts\n",
        "# Create a List of Labels for x-axis\n",
        "data2 = pd.read_csv('Gro/source_2.csv')\n",
        "\n",
        "titles = [\"Source 1\", \"Source 2\", \"Predicted_Results\"]\n",
        "\n",
        "# Create a List of Values (Same Length as Names List)\n",
        "number_of_rows = [len(data1),len(data2), len(result_df)]\n",
        "\n",
        "# Make the Chart\n",
        "plt.bar(titles, number_of_rows)\n",
        "\n",
        "# Show the Chart\n",
        "plt.show()"
      ],
      "metadata": {
        "colab": {
          "base_uri": "https://localhost:8080/",
          "height": 266
        },
        "id": "MepkpdaQ0HsN",
        "outputId": "60ba2f57-78ff-48f5-c1bb-8e247409f126"
      },
      "execution_count": null,
      "outputs": [
        {
          "output_type": "display_data",
          "data": {
            "text/plain": [
              "<Figure size 432x288 with 1 Axes>"
            ],
            "image/png": "[encoded data removed]"
          },
          "metadata": {
            "needs_background": "light"
          }
        }
      ]
    },
    {
      "cell_type": "code",
      "source": [
        "result_df.to_excel(r'predicted.xlsx', index = False)"
      ],
      "metadata": {
        "id": "ulZiFVCAv6Ru"
      },
      "execution_count": null,
      "outputs": []
    }
  ]
}